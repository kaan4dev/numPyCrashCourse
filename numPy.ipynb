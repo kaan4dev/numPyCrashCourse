{
 "cells": [
  {
   "cell_type": "code",
   "execution_count": 66,
   "metadata": {},
   "outputs": [],
   "source": [
    "import numpy as np"
   ]
  },
  {
   "cell_type": "markdown",
   "metadata": {},
   "source": [
    "## Broadcasting"
   ]
  },
  {
   "cell_type": "markdown",
   "metadata": {},
   "source": [
    "Broadcasting automatically expands smaller array to same length as bigger array."
   ]
  },
  {
   "cell_type": "code",
   "execution_count": 67,
   "metadata": {},
   "outputs": [
    {
     "name": "stdout",
     "output_type": "stream",
     "text": [
      "[5 6 7]\n"
     ]
    }
   ],
   "source": [
    "m = np.array([1,2,3])\n",
    "n = np.array([4])\n",
    "\n",
    "print(m+n)"
   ]
  },
  {
   "cell_type": "code",
   "execution_count": 68,
   "metadata": {},
   "outputs": [
    {
     "name": "stdout",
     "output_type": "stream",
     "text": [
      "[[11 22 33]\n",
      " [14 25 36]]\n"
     ]
    }
   ],
   "source": [
    "m = np.array([[1, 2, 3], [4, 5, 6]])\n",
    "n = np.array([10, 20, 30])\n",
    "\n",
    "print(m+n)"
   ]
  },
  {
   "cell_type": "code",
   "execution_count": 69,
   "metadata": {},
   "outputs": [
    {
     "name": "stdout",
     "output_type": "stream",
     "text": [
      "[[11 12 13]\n",
      " [24 25 26]]\n"
     ]
    }
   ],
   "source": [
    "m = np.array([[1, 2, 3], [4, 5, 6]])\n",
    "n = np.array([[10], [20]])\n",
    "\n",
    "print(m+n)"
   ]
  },
  {
   "cell_type": "code",
   "execution_count": 70,
   "metadata": {},
   "outputs": [
    {
     "name": "stdout",
     "output_type": "stream",
     "text": [
      "[[[11 22 33]\n",
      "  [14 25 36]]\n",
      "\n",
      " [[17 28 39]\n",
      "  [20 31 42]]]\n"
     ]
    }
   ],
   "source": [
    "m = np.array([[[1, 2, 3], [4, 5, 6]], [[7, 8, 9], [10, 11, 12]]])\n",
    "n = np.array([10, 20, 30])\n",
    "\n",
    "print(m+n)"
   ]
  },
  {
   "cell_type": "markdown",
   "metadata": {},
   "source": [
    "## Advanced Indexing"
   ]
  },
  {
   "cell_type": "markdown",
   "metadata": {},
   "source": [
    "Basic indexing"
   ]
  },
  {
   "cell_type": "code",
   "execution_count": 71,
   "metadata": {},
   "outputs": [
    {
     "name": "stdout",
     "output_type": "stream",
     "text": [
      "1\n",
      "1------------------\n",
      "[  1   4 112]\n",
      "2------------------\n",
      "[  1 112   5]\n"
     ]
    }
   ],
   "source": [
    "m = np.array([1,4,112,6,5,17,3])\n",
    "\n",
    "print(m[0])\n",
    "\n",
    "print('1------------------')\n",
    "\n",
    "print(m[0:3])\n",
    "\n",
    "print('2------------------')\n",
    "\n",
    "print(m[0:5:2])"
   ]
  },
  {
   "cell_type": "code",
   "execution_count": 72,
   "metadata": {},
   "outputs": [
    {
     "name": "stdout",
     "output_type": "stream",
     "text": [
      "1234\n",
      "1------------------\n",
      "[[ 6  5 17]]\n"
     ]
    }
   ],
   "source": [
    "m = np.array([[1,4,112], [6,5,17], [3,45,1234]])\n",
    "\n",
    "print(m[2][2])\n",
    "\n",
    "print('1------------------')\n",
    "\n",
    "print(m[1:2])"
   ]
  },
  {
   "cell_type": "markdown",
   "metadata": {},
   "source": [
    "Dimensional indexing"
   ]
  },
  {
   "cell_type": "code",
   "execution_count": 73,
   "metadata": {},
   "outputs": [
    {
     "name": "stdout",
     "output_type": "stream",
     "text": [
      "[[   1    4  112]\n",
      " [   6    5   17]\n",
      " [   3   45 1234]]\n",
      "1------------------\n",
      "[   3   45 1234]\n",
      "2------------------\n",
      "[ 112   17 1234]\n",
      "3------------------\n",
      "[[ 4]\n",
      " [ 5]\n",
      " [45]]\n",
      "4------------------\n",
      "[[ 6  5 17]]\n"
     ]
    }
   ],
   "source": [
    "m = np.array([[1,4,112], [6,5,17], [3,45,1234]])\n",
    "\n",
    "print(m[:, :])\n",
    "\n",
    "print('1------------------')\n",
    "\n",
    "print(m[2, :])\n",
    "\n",
    "print('2------------------')\n",
    "\n",
    "print(m[:, 2])\n",
    "\n",
    "print('3------------------')\n",
    "\n",
    "print(m[:, 1, np.newaxis])\n",
    "\n",
    "print('4------------------')\n",
    "\n",
    "print(m[np.newaxis, 1])"
   ]
  },
  {
   "cell_type": "markdown",
   "metadata": {},
   "source": [
    "Advanced indexing"
   ]
  },
  {
   "cell_type": "code",
   "execution_count": 74,
   "metadata": {},
   "outputs": [
    {
     "name": "stdout",
     "output_type": "stream",
     "text": [
      "[[   1  112]\n",
      " [   6   17]\n",
      " [   3 1234]]\n",
      "1------------------\n",
      "[   1 1234]\n",
      "2------------------\n",
      "[   1    5 1234]\n"
     ]
    }
   ],
   "source": [
    "m = np.array([[1,4,112], [6,5,17], [3,45,1234]])\n",
    "\n",
    "print(m[:, [0,2]])\n",
    "\n",
    "print('1------------------')\n",
    "\n",
    "print(m[[0,2], [0,2]])\n",
    "\n",
    "print('2------------------')\n",
    "\n",
    "print(m[[0, 1, 2], [0, 1, 2]])"
   ]
  },
  {
   "cell_type": "code",
   "execution_count": 75,
   "metadata": {},
   "outputs": [
    {
     "name": "stdout",
     "output_type": "stream",
     "text": [
      "[[   1    4  112]\n",
      " [   3   45 1234]]\n",
      "1------------------\n",
      "[   1    4  112    6   17    3   45 1234]\n"
     ]
    }
   ],
   "source": [
    "m = np.array([[1,4,112], [6,5,17], [3,45,1234]])\n",
    "\n",
    "print(m[[True, False, True]])\n",
    "\n",
    "print('1------------------')\n",
    "\n",
    "print(m[[[True, True, True], [True, False, True], [True, True, True]]])"
   ]
  },
  {
   "cell_type": "markdown",
   "metadata": {},
   "source": [
    "## Sorting & Searching"
   ]
  },
  {
   "cell_type": "markdown",
   "metadata": {},
   "source": [
    "### Sorting"
   ]
  },
  {
   "cell_type": "markdown",
   "metadata": {},
   "source": [
    "The key difference is that np.sort(m) returns a copy of the sorted array, leaving the original array m unchanged, whereas m.sort() modifies the array in-place and returns None."
   ]
  },
  {
   "cell_type": "code",
   "execution_count": 76,
   "metadata": {},
   "outputs": [
    {
     "name": "stdout",
     "output_type": "stream",
     "text": [
      "[[  5   8   9]\n",
      " [  1   4  61]\n",
      " [  3   7 211]]\n",
      "1------------------\n",
      "[[  4   1   8]\n",
      " [  5   3  61]\n",
      " [  7   9 211]]\n",
      "2------------------\n",
      "[[  1   4   8]\n",
      " [  3   5  61]\n",
      " [  7   9 211]]\n",
      "3------------------\n",
      "[[  5   8   9]\n",
      " [  1   4  61]\n",
      " [  3   7 211]]\n",
      "4------------------\n",
      "None\n"
     ]
    }
   ],
   "source": [
    "m = np.array([[5,9,8], [4,1,61], [7,3,211]])\n",
    "\n",
    "print(np.sort(m, axis= 1))\n",
    "\n",
    "print('1------------------')\n",
    "      \n",
    "print(np.sort(m, axis= 0))\n",
    "\n",
    "print('2------------------')\n",
    "\n",
    "print(np.sort(np.sort(m, axis= 0), axis= 1))\n",
    "\n",
    "print('3------------------')\n",
    "\n",
    "print(np.sort(m.flatten().reshape(m.shape)))\n",
    "\n",
    "print('4------------------')\n",
    "\n",
    "n= m.sort()\n",
    "\n",
    "print(n)"
   ]
  },
  {
   "cell_type": "markdown",
   "metadata": {},
   "source": [
    "### Searching"
   ]
  },
  {
   "cell_type": "code",
   "execution_count": 86,
   "metadata": {},
   "outputs": [
    {
     "name": "stdout",
     "output_type": "stream",
     "text": [
      "2\n",
      "6\n",
      "1------------------\n",
      "(array([0, 1, 2, 3, 4, 5, 7]),)\n",
      "2------------------\n",
      "[0.05  0.    0.87  0.02  0.    0.03  0.    0.011]\n"
     ]
    }
   ],
   "source": [
    "m = np. array([0.05, 0.01, 0.87, 0.02, 0.01, 0.03, 0, 0.011])\n",
    "\n",
    "print(np.argmax(m))\n",
    "print(np.argmin(m))\n",
    "\n",
    "print('1------------------')\n",
    "\n",
    "print(np.nonzero(m))\n",
    "\n",
    "print('2------------------')\n",
    "\n",
    "print(np.where(m>0.01, m, 0))\n",
    "\n",
    "\n",
    "\n",
    "\n",
    "\n"
   ]
  },
  {
   "cell_type": "markdown",
   "metadata": {},
   "source": [
    "## Iterating"
   ]
  },
  {
   "cell_type": "code",
   "execution_count": 98,
   "metadata": {},
   "outputs": [
    {
     "name": "stdout",
     "output_type": "stream",
     "text": [
      "[0 1] [2 3] [4 5] [6 7] [8 9] [10 11] [12 13] [14 15] [16 17] [18 19] [20 21] [22 23] \n",
      "1------------------\n",
      "0 1 2 3 4 5 6 7 8 9 10 11 12 13 14 15 16 17 18 19 20 21 22 23 \n",
      "2------------------\n",
      "[[[  0   1]\n",
      "  [  4   9]\n",
      "  [ 16  25]\n",
      "  [ 36  49]]\n",
      "\n",
      " [[ 64  81]\n",
      "  [100 121]\n",
      "  [144 169]\n",
      "  [196 225]]\n",
      "\n",
      " [[256 289]\n",
      "  [324 361]\n",
      "  [400 441]\n",
      "  [484 529]]]\n"
     ]
    }
   ],
   "source": [
    "m = np.arange(24).reshape(3, 4, 2)\n",
    "\n",
    "for row in m:\n",
    "    for element in row:\n",
    "        print(element , end= ' ')\n",
    "\n",
    "print('\\n1------------------')\n",
    "\n",
    "for element in np.nditer(m):\n",
    "    print(element , end= ' ')\n",
    "\n",
    "print('\\n2------------------')\n",
    "\n",
    "with np.nditer(m, op_flags= ['readwrite']) as it :\n",
    "    for element in it:\n",
    "        element[...] = element ** 2\n",
    "\n",
    "print(m)        \n"
   ]
  }
 ],
 "metadata": {
  "kernelspec": {
   "display_name": "venv",
   "language": "python",
   "name": "python3"
  },
  "language_info": {
   "codemirror_mode": {
    "name": "ipython",
    "version": 3
   },
   "file_extension": ".py",
   "mimetype": "text/x-python",
   "name": "python",
   "nbconvert_exporter": "python",
   "pygments_lexer": "ipython3",
   "version": "3.13.2"
  }
 },
 "nbformat": 4,
 "nbformat_minor": 2
}
